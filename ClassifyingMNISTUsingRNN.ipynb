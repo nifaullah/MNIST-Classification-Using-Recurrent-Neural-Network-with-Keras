{
  "nbformat": 4,
  "nbformat_minor": 0,
  "metadata": {
    "colab": {
      "name": "ClassifyingMNISTUsingRNN.ipynb",
      "provenance": [],
      "collapsed_sections": []
    },
    "kernelspec": {
      "name": "python3",
      "display_name": "Python 3"
    },
    "accelerator": "GPU"
  },
  "cells": [
    {
      "cell_type": "markdown",
      "metadata": {
        "id": "TZDHcXzfjANr",
        "colab_type": "text"
      },
      "source": [
        "# Classifying MNIST Using RNN in Keras\n",
        "\n",
        "**Goal:**\n",
        "  1. Understand how RNN works using keras\n",
        "  2. Classify MNIST images with 98% accuracy\n",
        "\n",
        "**Approach:**\n",
        "First the MNIST dataset is downloaded from the inbuilt keras library, the test data and the train dataset is scaled before it's fed to the neural network. In this excercise I use the Normal LSTM , instead of the faster CuDNNLSTM, courtesy it not working properly with tensorflow 2.3 and keras, some dropout layers are also added to generalize the classification function which the netwrok is learning.\n",
        "\n",
        "**Result:** \n",
        "I can say with confidence that I can successfully translate the theoretical concept of RNN to solve real world problems and the MNIST handwritten digits were also classifed with a high train accuracy and a high validation accuracy\n",
        "\n",
        "**Acknowledgement:**\n",
        "\n",
        "1. [Google Colab](https://https://colab.research.google.com/notebooks/intro.ipynb)\n",
        "2. [Python Programming Tutorials](https://pythonprogramming.net/)\n",
        "\n"
      ]
    },
    {
      "cell_type": "markdown",
      "metadata": {
        "id": "rzOO635E36qp",
        "colab_type": "text"
      },
      "source": [
        "# 1. Libraries"
      ]
    },
    {
      "cell_type": "code",
      "metadata": {
        "id": "4lS_NYCwa6vp",
        "colab_type": "code",
        "colab": {
          "base_uri": "https://localhost:8080/",
          "height": 34
        },
        "outputId": "ab79348d-16f5-4660-c064-94a4ff248a9b"
      },
      "source": [
        "import keras\n",
        "from keras.models import Sequential\n",
        "from keras.layers import Dense, Dropout, LSTM"
      ],
      "execution_count": 6,
      "outputs": [
        {
          "output_type": "stream",
          "text": [
            "Using TensorFlow backend.\n"
          ],
          "name": "stderr"
        }
      ]
    },
    {
      "cell_type": "markdown",
      "metadata": {
        "id": "BhL9N4y64Hao",
        "colab_type": "text"
      },
      "source": [
        "# 2. Load and Prepare Data"
      ]
    },
    {
      "cell_type": "code",
      "metadata": {
        "id": "Qy3CxKlSWIiP",
        "colab_type": "code",
        "colab": {
          "base_uri": "https://localhost:8080/",
          "height": 51
        },
        "outputId": "413451d3-0139-40af-8db3-a5d691a524b9"
      },
      "source": [
        "mnist = keras.datasets.mnist  # mnist is a dataset of 28x28 images of handwritten digits and their labels\n",
        "(x_train, y_train),(x_test, y_test) = mnist.load_data()  # unpacks images to x_train/x_test and labels to y_train/y_test\n",
        "\n",
        "x_train = x_train/255.0\n",
        "x_test = x_test/255.0\n",
        "\n",
        "print(x_train.shape)\n",
        "print(x_train[0].shape)"
      ],
      "execution_count": 7,
      "outputs": [
        {
          "output_type": "stream",
          "text": [
            "(60000, 28, 28)\n",
            "(28, 28)\n"
          ],
          "name": "stdout"
        }
      ]
    },
    {
      "cell_type": "markdown",
      "metadata": {
        "id": "Mh2wl8Sb4S9f",
        "colab_type": "text"
      },
      "source": [
        "# 3. Sequence Model"
      ]
    },
    {
      "cell_type": "code",
      "metadata": {
        "id": "deplfLcZZdYE",
        "colab_type": "code",
        "colab": {}
      },
      "source": [
        "model = Sequential([LSTM(128, input_shape=(x_train.shape[1:]), return_sequences=True),\n",
        "                    Dropout(0.2),\n",
        "                    LSTM(128),\n",
        "                    Dropout(0.1),\n",
        "                    Dense(32, activation='relu'),\n",
        "                    Dropout(0.2),\n",
        "                    Dense(10)\n",
        "                    ])\n",
        "model.compile(optimizer='adam',\n",
        "              loss=keras.losses.SparseCategoricalCrossentropy(from_logits=True),\n",
        "              metrics=['accuracy'])"
      ],
      "execution_count": 0,
      "outputs": []
    },
    {
      "cell_type": "markdown",
      "metadata": {
        "id": "B6vM4sKD48dH",
        "colab_type": "text"
      },
      "source": [
        "# 4. Model Performance\n",
        "\n",
        "98.5% train accuracy and 98.73% validation accuracy after 5 epochs worth of training is pretty good. Further we can tune the model a little bit to get near exact accuracy."
      ]
    },
    {
      "cell_type": "code",
      "metadata": {
        "id": "4vEV2IAoWl2l",
        "colab_type": "code",
        "colab": {
          "base_uri": "https://localhost:8080/",
          "height": 221
        },
        "outputId": "fa4a8e70-769c-42f7-a6e9-f3513f9b2a69"
      },
      "source": [
        "model.fit(x_train,\n",
        "          y_train,\n",
        "          epochs=5, \n",
        "          validation_data=(x_test, y_test))"
      ],
      "execution_count": 9,
      "outputs": [
        {
          "output_type": "stream",
          "text": [
            "Train on 60000 samples, validate on 10000 samples\n",
            "Epoch 1/5\n",
            "60000/60000 [==============================] - 126s 2ms/step - loss: 0.3895 - accuracy: 0.8808 - val_loss: 0.1285 - val_accuracy: 0.9625\n",
            "Epoch 2/5\n",
            "60000/60000 [==============================] - 126s 2ms/step - loss: 0.1153 - accuracy: 0.9695 - val_loss: 0.0744 - val_accuracy: 0.9771\n",
            "Epoch 3/5\n",
            "60000/60000 [==============================] - 127s 2ms/step - loss: 0.0841 - accuracy: 0.9774 - val_loss: 0.0584 - val_accuracy: 0.9829\n",
            "Epoch 4/5\n",
            "60000/60000 [==============================] - 127s 2ms/step - loss: 0.0643 - accuracy: 0.9823 - val_loss: 0.0781 - val_accuracy: 0.9781\n",
            "Epoch 5/5\n",
            "60000/60000 [==============================] - 129s 2ms/step - loss: 0.0575 - accuracy: 0.9850 - val_loss: 0.0477 - val_accuracy: 0.9873\n"
          ],
          "name": "stdout"
        },
        {
          "output_type": "execute_result",
          "data": {
            "text/plain": [
              "<keras.callbacks.callbacks.History at 0x7faf0a66bf60>"
            ]
          },
          "metadata": {
            "tags": []
          },
          "execution_count": 9
        }
      ]
    }
  ]
}